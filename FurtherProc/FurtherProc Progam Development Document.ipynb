{
 "cells": [
  {
   "cell_type": "markdown",
   "metadata": {},
   "source": [
    "# Trend Finding and Visualization of Parameters for DAMIC CCDs\n",
    "\n",
    "### Goal\n",
    "\n",
    "This program will use Alex Piers' code to find relevant variables which can be used to determine the quality of any given image.  It will be able to map these parameters which determine the images' quality to the input parameters used to configure the CCD or to combinations of the parameters.  This will help easily identify trends in the data, and make more obvious where one should search for better parameters."
   ]
  },
  {
   "cell_type": "markdown",
   "metadata": {},
   "source": [
    "### Convirt .fits files to .csv\n",
    "\n",
    "To make analysis of these input and output variables, we don't want to be moving around all the raw data for each image since we will only be using processed data.  That means the first step will be to make a csv file for each CCD, containing the input and output variables of each image.  Later analysis will be done using the csv file.\n",
    "\n",
    "The cell below runs FitsToCSV.py on the specified directory and all subdirectories it contains.  If the data is outside the folder, the argument should be the whole filepath to get to the directory.  Directories should be of the form \"UW(4 digits)S\" or \"YYYY-MM-DD\".  It will convirt every Img+//.fits file contained in the directory or subdirectories into a line in the csv output file.  The program may take several minutes to compile, depending on how large the directory is that one is analyzing."
   ]
  },
  {
   "cell_type": "code",
   "execution_count": 1,
   "metadata": {},
   "outputs": [
    {
     "name": "stdout",
     "output_type": "stream",
     "text": [
      "UW1032S\n",
      "  0%|                                                     | 0/4 [00:00<?, ?it/s]Reading images from: UW1032S\n",
      "/home/shda/anaconda3/lib/python3.7/site-packages/scipy/optimize/minpack.py:795: OptimizeWarning: Covariance of the parameters could not be estimated\n",
      "  category=OptimizeWarning)\n",
      "100%|█████████████████████████████████████████████| 4/4 [00:04<00:00,  1.21s/it]\n"
     ]
    }
   ],
   "source": [
    "!python FitsToCSV.py \"UW1032S\""
   ]
  },
  {
   "cell_type": "markdown",
   "metadata": {},
   "source": [
    "### Graphing Variables (1 Dimensional)\n",
    "\n",
    "The first analysis we want to see from the .csv file is the relation between 2 variables.  The code cell below takes two variable names as arguments, and shows the relation between them in a scatter plot.  The first argument will be the .csv file, the second argument will be the variable appearing on the x axis, and the third will appear on the y.\n",
    "\n",
    "Key to Variables:\n",
    "\n",
    "Inputs:\n",
    "'EXP', 'AMPL', 'HCKDIRN', 'VCKDIRN', 'ITGTIME', 'VIDGAIN', 'PRETIME', 'POSTIME', 'DGWIDTH', 'RGWIDTH', 'OGWIDTH', 'SWWIDTH', 'HWIDTH', 'HOWIDTH', 'VWIDTH', 'VOWIDTH', 'ONEVCKHI', 'ONEVCKLO', 'TWOVCKHI', 'TWOVCKLO', 'TGHI', 'TGLO', 'HUHI', 'HULO', 'HLHI', 'HLLO', 'RGHI', 'RGLO', 'SWLO', 'DGHI', 'DGLO', 'OGHI', 'OGLO', 'BATTR', 'VDD1', 'VDD2', 'DRAIN1', 'DRAIN2', 'VREF1', 'VREF2', 'OPG1', 'OPG2'.\n",
    "\n",
    "Outputs:\n",
    "'imgNoise', 'skNoise', 'aveImgS', 'dSdskip', 'pixVar', 'clustVar', 'tailRatio', 'DC'.\n",
    "\n",
    "Image info:\n",
    "'NDCMS', 'NAXIS1', 'NAXIS2'."
   ]
  },
  {
   "cell_type": "code",
   "execution_count": 5,
   "metadata": {},
   "outputs": [
    {
     "data": {
      "image/png": "[encoded data removed]",
      "text/plain": [
       "<Figure size 432x288 with 1 Axes>"
      ]
     },
     "metadata": {
      "needs_background": "light"
     },
     "output_type": "display_data"
    }
   ],
   "source": [
    "%matplotlib inline\n",
    "import Graphing\n",
    "\n",
    "Graphing.graph1D(\"UW1602S.csv\",\"NDCMS\", 0, 4000, \"imgNoise\", 0 , 500)"
   ]
  },
  {
   "cell_type": "markdown",
   "metadata": {},
   "source": [
    "### Finding Correlations Between Variables\n",
    "\n",
    "To get a better idea about how variables affect each other, we need a way to look at correlations between variables, which turns out to be relativley straight forward using pandas."
   ]
  },
  {
   "cell_type": "code",
   "execution_count": 2,
   "metadata": {},
   "outputs": [
    {
     "data": {
      "text/plain": [
       "aveImgS     -0.051115\n",
       "ITGTIME     -0.046295\n",
       "NAXIS2      -0.036948\n",
       "VREF2       -0.033488\n",
       "VREF1       -0.033488\n",
       "DRAIN2      -0.033383\n",
       "DRAIN1      -0.033383\n",
       "VDD2        -0.033383\n",
       "VDD1        -0.033383\n",
       "TGHI        -0.030177\n",
       "HLHI        -0.029407\n",
       "HUHI        -0.029407\n",
       "ONEVCKHI    -0.027669\n",
       "VCKDIRN     -0.027249\n",
       "DGHI        -0.020123\n",
       "tailRatio   -0.018569\n",
       "TGLO        -0.018479\n",
       "ONEVCKLO    -0.018479\n",
       "OGLO        -0.018048\n",
       "DGWIDTH     -0.017571\n",
       "SWLO        -0.016467\n",
       "RGWIDTH     -0.016151\n",
       "DGLO        -0.016107\n",
       "SWWIDTH     -0.016102\n",
       "OGWIDTH     -0.016059\n",
       "OGHI        -0.014819\n",
       "pixVar      -0.012105\n",
       "imgNoise    -0.008937\n",
       "EXP         -0.006524\n",
       "skNoise     -0.003518\n",
       "clustVar    -0.001916\n",
       "TWOVCKLO     0.001976\n",
       "TWOVCKHI     0.002021\n",
       "HLLO         0.002407\n",
       "HULO         0.002407\n",
       "POSTIME      0.006735\n",
       "RGLO         0.013250\n",
       "VIDGAIN      0.015872\n",
       "RGHI         0.025013\n",
       "PRETIME      0.031693\n",
       "BATTR        0.033383\n",
       "NDCMS        0.587830\n",
       "NAXIS1       0.796108\n",
       "DC           1.000000\n",
       "HWIDTH            NaN\n",
       "HOWIDTH           NaN\n",
       "VWIDTH            NaN\n",
       "VOWIDTH           NaN\n",
       "OPG1              NaN\n",
       "OPG2              NaN\n",
       "Name: DC, dtype: float64"
      ]
     },
     "execution_count": 2,
     "metadata": {},
     "output_type": "execute_result"
    }
   ],
   "source": [
    "import pandas as pd\n",
    "\n",
    "ccd = pd.read_csv(\"UW1602SN.csv\")\n",
    "ccd.corr()['DC'].sort_values()"
   ]
  },
  {
   "cell_type": "code",
   "execution_count": null,
   "metadata": {},
   "outputs": [],
   "source": []
  }
 ],
 "metadata": {
  "kernelspec": {
   "display_name": "Python 3",
   "language": "python",
   "name": "python3"
  },
  "language_info": {
   "codemirror_mode": {
    "name": "ipython",
    "version": 3
   },
   "file_extension": ".py",
   "mimetype": "text/x-python",
   "name": "python",
   "nbconvert_exporter": "python",
   "pygments_lexer": "ipython3",
   "version": "3.7.4"
  }
 },
 "nbformat": 4,
 "nbformat_minor": 2
}
